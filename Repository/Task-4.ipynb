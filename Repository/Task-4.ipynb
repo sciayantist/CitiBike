{
 "cells": [
  {
   "cell_type": "markdown",
   "id": "c5cbdd35-e516-4604-afd3-40964c09133d",
   "metadata": {},
   "source": [
    "# 01. Import Libraries"
   ]
  },
  {
   "cell_type": "code",
   "execution_count": 2,
   "id": "cf1fa863-060b-4754-8bb1-50d11074bff5",
   "metadata": {},
   "outputs": [],
   "source": [
    "import pandas as pd\n",
    "import time\n",
    "from selenium import webdriver\n",
    "from webdriver_manager.chrome import ChromeDriverManager\n",
    "from selenium.webdriver.common.by import By\n",
    "from selenium.webdriver.chrome.service import Service\n",
    "from selenium.webdriver.chrome.options import Options\n",
    "import matplotlib.pyplot as plt \n",
    "import os\n",
    "import logging"
   ]
  },
  {
   "cell_type": "markdown",
   "id": "0f710d0f-d6b2-4b14-8cb7-3c36cf9f1a09",
   "metadata": {},
   "source": [
    "# 02. Install the driver"
   ]
  },
  {
   "cell_type": "code",
   "execution_count": 5,
   "id": "3e6add98-1fac-4215-97ca-7e65e056c7a6",
   "metadata": {},
   "outputs": [],
   "source": [
    "#Install ChromeDriverManager\n",
    "service  =  Service(executable_path=ChromeDriverManager().install())"
   ]
  },
  {
   "cell_type": "code",
   "execution_count": 7,
   "id": "0540b886-d535-419e-82ca-934a529834c1",
   "metadata": {},
   "outputs": [],
   "source": [
    "driver = webdriver.Chrome()"
   ]
  },
  {
   "cell_type": "markdown",
   "id": "5eb7b827-d8c2-41c0-a6d1-3fac91514145",
   "metadata": {},
   "source": [
    "# 03. Importing the libraries - whole page scrapping"
   ]
  },
  {
   "cell_type": "code",
   "execution_count": 10,
   "id": "36330ccf-9ef9-487c-8475-829322f483f4",
   "metadata": {},
   "outputs": [],
   "source": [
    "#for the scrapping the whole page\n",
    "from bs4 import BeautifulSoup\n",
    "import requests "
   ]
  },
  {
   "cell_type": "markdown",
   "id": "2ca74eb2-15cb-4c88-8afe-41ea30b25a31",
   "metadata": {},
   "source": [
    "# 04. Scrape the content of Key Events of the 20th Century page"
   ]
  },
  {
   "cell_type": "code",
   "execution_count": 13,
   "id": "8f1d665e-ba4d-4466-a074-9fdda4ef918f",
   "metadata": {},
   "outputs": [],
   "source": [
    "# Get URL\n",
    "page_url =  requests.get(\"https://en.wikipedia.org/wiki/Key_events_of_the_20th_century\")"
   ]
  },
  {
   "cell_type": "code",
   "execution_count": 15,
   "id": "5b917a0e-919f-4fbc-a481-7747f41dcc9a",
   "metadata": {},
   "outputs": [],
   "source": [
    "#Create a soup object for the URL content, **parsing what we received in the get() request**"
   ]
  },
  {
   "cell_type": "code",
   "execution_count": 17,
   "id": "30c023ba-e036-424f-ac83-8855a4d6304a",
   "metadata": {},
   "outputs": [],
   "source": [
    "# Create soup and get title\n",
    "soup = BeautifulSoup(page_url.text, 'html.parser')"
   ]
  },
  {
   "cell_type": "code",
   "execution_count": 19,
   "id": "e7f203c4-774a-433f-9880-d393312b3fd6",
   "metadata": {},
   "outputs": [
    {
     "name": "stdout",
     "output_type": "stream",
     "text": [
      "<title>Key events of the 20th century - Wikipedia</title>\n"
     ]
    }
   ],
   "source": [
    "print(soup.title)"
   ]
  },
  {
   "cell_type": "code",
   "execution_count": null,
   "id": "dc6585c5-485d-44b4-b536-4e806c009a73",
   "metadata": {},
   "outputs": [],
   "source": [
    "#See the entire content\n",
    "print(soup.text)"
   ]
  },
  {
   "cell_type": "code",
   "execution_count": 21,
   "id": "4f3cc2e9-94bc-4e64-89de-b414556457f0",
   "metadata": {},
   "outputs": [],
   "source": [
    "#Create a new object that stores all the text, define its encoding, and save the file\n",
    "text = soup.get_text()\n",
    "\n",
    "text = text.encode ('utf-8')\n",
    "\n",
    "with open('20th_century.txt', 'wb') as f:\n",
    "       f.write(text)"
   ]
  },
  {
   "cell_type": "code",
   "execution_count": null,
   "id": "4cc10bc0-6569-4ad3-a783-ba82ab991f95",
   "metadata": {},
   "outputs": [],
   "source": []
  }
 ],
 "metadata": {
  "kernelspec": {
   "display_name": "Python [conda env:20th_century]",
   "language": "python",
   "name": "conda-env-20th_century-py"
  },
  "language_info": {
   "codemirror_mode": {
    "name": "ipython",
    "version": 3
   },
   "file_extension": ".py",
   "mimetype": "text/x-python",
   "name": "python",
   "nbconvert_exporter": "python",
   "pygments_lexer": "ipython3",
   "version": "3.13.2"
  }
 },
 "nbformat": 4,
 "nbformat_minor": 5
}
