{
 "cells": [
  {
   "cell_type": "markdown",
   "id": "ff6f8a3a-40bf-48c4-ab0f-6e92e18a83b7",
   "metadata": {},
   "source": [
    "# Creating Dashboards with streamlit -Part#2\n",
    "\n",
    "## 01. Import Libraries\n",
    "## 02. Import Data\n",
    "## 03. Dataset Final Formatting\n",
    "## 04. Export Data"
   ]
  },
  {
   "cell_type": "markdown",
   "id": "b44d8a9d-f6e9-4e75-a070-e1626af3c862",
   "metadata": {},
   "source": [
    "## 01. Import Libraries"
   ]
  },
  {
   "cell_type": "code",
   "execution_count": 1,
   "id": "49c5e52c-7632-4e72-b242-6133bdc44196",
   "metadata": {},
   "outputs": [
    {
     "name": "stderr",
     "output_type": "stream",
     "text": [
      "/opt/anaconda3/envs/CitiBike/lib/python3.13/site-packages/pyproj/network.py:59: UserWarning: pyproj unable to set PROJ database path.\n",
      "  _set_context_ca_bundle_path(ca_bundle_path)\n"
     ]
    }
   ],
   "source": [
    "import pandas as pd\n",
    "import numpy as np\n",
    "import matplotlib.pyplot as plt\n",
    "import streamlit as st\n",
    "import plotly.graph_objects as go\n",
    "import plotly.express as px\n",
    "from plotly.subplots import make_subplots\n",
    "from datetime import datetime as dt\n",
    "from streamlit_keplergl import keplergl_static\n",
    "\n",
    "#Install the requirements **streamlit**\n",
    "#conda install -c conda-forge streamlit\n",
    "#pip install plotly streamlit streamlit_keplergl numerize pillow"
   ]
  },
  {
   "cell_type": "markdown",
   "id": "49de1b68-19e3-4c66-921a-e7e015459b4e",
   "metadata": {},
   "source": [
    "## 02. Import Data"
   ]
  },
  {
   "cell_type": "code",
   "execution_count": 2,
   "id": "f3624c3f-8fbd-4415-84ef-8ba6c95efab5",
   "metadata": {},
   "outputs": [],
   "source": [
    "#The maine dataframe with the derived column\n",
    "df = pd.read_csv('df_final_1.csv')"
   ]
  },
  {
   "cell_type": "code",
   "execution_count": 3,
   "id": "6689b2df-9d1d-4747-95da-a3fc2f0191df",
   "metadata": {},
   "outputs": [
    {
     "data": {
      "text/html": [
       "<div>\n",
       "<style scoped>\n",
       "    .dataframe tbody tr th:only-of-type {\n",
       "        vertical-align: middle;\n",
       "    }\n",
       "\n",
       "    .dataframe tbody tr th {\n",
       "        vertical-align: top;\n",
       "    }\n",
       "\n",
       "    .dataframe thead th {\n",
       "        text-align: right;\n",
       "    }\n",
       "</style>\n",
       "<table border=\"1\" class=\"dataframe\">\n",
       "  <thead>\n",
       "    <tr style=\"text-align: right;\">\n",
       "      <th></th>\n",
       "      <th>ride_id</th>\n",
       "      <th>rideable_type</th>\n",
       "      <th>started_at</th>\n",
       "      <th>ended_at</th>\n",
       "      <th>start_station_name</th>\n",
       "      <th>start_station_id</th>\n",
       "      <th>end_station_name</th>\n",
       "      <th>end_station_id</th>\n",
       "      <th>start_lat</th>\n",
       "      <th>start_lng</th>\n",
       "      <th>end_lat</th>\n",
       "      <th>end_lng</th>\n",
       "      <th>member_casual</th>\n",
       "      <th>avgTemp</th>\n",
       "      <th>daily_bike_rides</th>\n",
       "      <th>_merge</th>\n",
       "      <th>value</th>\n",
       "      <th>date</th>\n",
       "      <th>month</th>\n",
       "      <th>season</th>\n",
       "    </tr>\n",
       "  </thead>\n",
       "  <tbody>\n",
       "    <tr>\n",
       "      <th>0</th>\n",
       "      <td>B42E6C17AF007611</td>\n",
       "      <td>classic_bike</td>\n",
       "      <td>2022-01-01</td>\n",
       "      <td>2022-01-01 00:25:03</td>\n",
       "      <td>Hoboken Terminal - River St &amp; Hudson Pl</td>\n",
       "      <td>HB102</td>\n",
       "      <td>Adams St &amp; 2 St</td>\n",
       "      <td>HB407</td>\n",
       "      <td>40.736068</td>\n",
       "      <td>-74.029127</td>\n",
       "      <td>40.739814</td>\n",
       "      <td>-74.036904</td>\n",
       "      <td>member</td>\n",
       "      <td>11.6</td>\n",
       "      <td>592</td>\n",
       "      <td>both</td>\n",
       "      <td>1</td>\n",
       "      <td>2022-01-01</td>\n",
       "      <td>1</td>\n",
       "      <td>winter</td>\n",
       "    </tr>\n",
       "    <tr>\n",
       "      <th>1</th>\n",
       "      <td>D5C9BBDBC66CEBF6</td>\n",
       "      <td>classic_bike</td>\n",
       "      <td>2022-01-01</td>\n",
       "      <td>2022-01-01 13:57:13</td>\n",
       "      <td>14 St Ferry - 14 St &amp; Shipyard Ln</td>\n",
       "      <td>HB202</td>\n",
       "      <td>Hoboken Terminal - River St &amp; Hudson Pl</td>\n",
       "      <td>HB102</td>\n",
       "      <td>40.752961</td>\n",
       "      <td>-74.024353</td>\n",
       "      <td>40.736068</td>\n",
       "      <td>-74.029127</td>\n",
       "      <td>member</td>\n",
       "      <td>11.6</td>\n",
       "      <td>592</td>\n",
       "      <td>both</td>\n",
       "      <td>1</td>\n",
       "      <td>2022-01-01</td>\n",
       "      <td>1</td>\n",
       "      <td>winter</td>\n",
       "    </tr>\n",
       "    <tr>\n",
       "      <th>2</th>\n",
       "      <td>F7D69E45F52F0ECA</td>\n",
       "      <td>electric_bike</td>\n",
       "      <td>2022-01-01</td>\n",
       "      <td>2022-01-02 00:34:32</td>\n",
       "      <td>South Waterfront Walkway - Sinatra Dr &amp; 1 St</td>\n",
       "      <td>HB103</td>\n",
       "      <td>Brunswick &amp; 6th</td>\n",
       "      <td>JC081</td>\n",
       "      <td>40.736982</td>\n",
       "      <td>-74.027781</td>\n",
       "      <td>40.726012</td>\n",
       "      <td>-74.050389</td>\n",
       "      <td>casual</td>\n",
       "      <td>11.6</td>\n",
       "      <td>592</td>\n",
       "      <td>both</td>\n",
       "      <td>1</td>\n",
       "      <td>2022-01-01</td>\n",
       "      <td>1</td>\n",
       "      <td>winter</td>\n",
       "    </tr>\n",
       "  </tbody>\n",
       "</table>\n",
       "</div>"
      ],
      "text/plain": [
       "            ride_id  rideable_type  started_at             ended_at  \\\n",
       "0  B42E6C17AF007611   classic_bike  2022-01-01  2022-01-01 00:25:03   \n",
       "1  D5C9BBDBC66CEBF6   classic_bike  2022-01-01  2022-01-01 13:57:13   \n",
       "2  F7D69E45F52F0ECA  electric_bike  2022-01-01  2022-01-02 00:34:32   \n",
       "\n",
       "                             start_station_name start_station_id  \\\n",
       "0       Hoboken Terminal - River St & Hudson Pl            HB102   \n",
       "1             14 St Ferry - 14 St & Shipyard Ln            HB202   \n",
       "2  South Waterfront Walkway - Sinatra Dr & 1 St            HB103   \n",
       "\n",
       "                          end_station_name end_station_id  start_lat  \\\n",
       "0                          Adams St & 2 St          HB407  40.736068   \n",
       "1  Hoboken Terminal - River St & Hudson Pl          HB102  40.752961   \n",
       "2                          Brunswick & 6th          JC081  40.736982   \n",
       "\n",
       "   start_lng    end_lat    end_lng member_casual  avgTemp  daily_bike_rides  \\\n",
       "0 -74.029127  40.739814 -74.036904        member     11.6               592   \n",
       "1 -74.024353  40.736068 -74.029127        member     11.6               592   \n",
       "2 -74.027781  40.726012 -74.050389        casual     11.6               592   \n",
       "\n",
       "  _merge  value        date  month  season  \n",
       "0   both      1  2022-01-01      1  winter  \n",
       "1   both      1  2022-01-01      1  winter  \n",
       "2   both      1  2022-01-01      1  winter  "
      ]
     },
     "execution_count": 3,
     "metadata": {},
     "output_type": "execute_result"
    }
   ],
   "source": [
    "df.head(3)"
   ]
  },
  {
   "cell_type": "code",
   "execution_count": 4,
   "id": "a1876599-4aae-420d-ba07-2801194793b8",
   "metadata": {},
   "outputs": [
    {
     "data": {
      "text/plain": [
       "ride_id                object\n",
       "rideable_type          object\n",
       "started_at             object\n",
       "ended_at               object\n",
       "start_station_name     object\n",
       "start_station_id       object\n",
       "end_station_name       object\n",
       "end_station_id         object\n",
       "start_lat             float64\n",
       "start_lng             float64\n",
       "end_lat               float64\n",
       "end_lng               float64\n",
       "member_casual          object\n",
       "avgTemp               float64\n",
       "daily_bike_rides        int64\n",
       "_merge                 object\n",
       "value                   int64\n",
       "date                   object\n",
       "month                   int64\n",
       "season                 object\n",
       "dtype: object"
      ]
     },
     "execution_count": 4,
     "metadata": {},
     "output_type": "execute_result"
    }
   ],
   "source": [
    "df.dtypes"
   ]
  },
  {
   "cell_type": "code",
   "execution_count": 5,
   "id": "1a8477e3-5af9-412f-89e2-a65ecaa85f4a",
   "metadata": {},
   "outputs": [
    {
     "data": {
      "text/plain": [
       "(895485, 20)"
      ]
     },
     "execution_count": 5,
     "metadata": {},
     "output_type": "execute_result"
    }
   ],
   "source": [
    "df.shape"
   ]
  },
  {
   "cell_type": "code",
   "execution_count": 6,
   "id": "97f91ce5-40b2-4b1c-938d-c2f4c334a0ab",
   "metadata": {},
   "outputs": [],
   "source": [
    "#Create a month column\n",
    "df['date'] = pd.to_datetime(df['started_at'], format = '%Y-%m-%d')"
   ]
  },
  {
   "cell_type": "code",
   "execution_count": 7,
   "id": "c7ced217-2696-4974-abb7-6aee66cfcf3e",
   "metadata": {},
   "outputs": [],
   "source": [
    "df['month'] = df['date'].dt.month"
   ]
  },
  {
   "cell_type": "code",
   "execution_count": 8,
   "id": "ad0e8882-7453-42a2-a9e6-2b680647ebcc",
   "metadata": {},
   "outputs": [],
   "source": [
    "df['month'] = df['month'].astype('int')"
   ]
  },
  {
   "cell_type": "code",
   "execution_count": 9,
   "id": "0f02910e-9d05-4a14-a60c-2adeeb9dee42",
   "metadata": {},
   "outputs": [
    {
     "data": {
      "text/html": [
       "<div>\n",
       "<style scoped>\n",
       "    .dataframe tbody tr th:only-of-type {\n",
       "        vertical-align: middle;\n",
       "    }\n",
       "\n",
       "    .dataframe tbody tr th {\n",
       "        vertical-align: top;\n",
       "    }\n",
       "\n",
       "    .dataframe thead th {\n",
       "        text-align: right;\n",
       "    }\n",
       "</style>\n",
       "<table border=\"1\" class=\"dataframe\">\n",
       "  <thead>\n",
       "    <tr style=\"text-align: right;\">\n",
       "      <th></th>\n",
       "      <th>ride_id</th>\n",
       "      <th>rideable_type</th>\n",
       "      <th>started_at</th>\n",
       "      <th>ended_at</th>\n",
       "      <th>start_station_name</th>\n",
       "      <th>start_station_id</th>\n",
       "      <th>end_station_name</th>\n",
       "      <th>end_station_id</th>\n",
       "      <th>start_lat</th>\n",
       "      <th>start_lng</th>\n",
       "      <th>end_lat</th>\n",
       "      <th>end_lng</th>\n",
       "      <th>member_casual</th>\n",
       "      <th>avgTemp</th>\n",
       "      <th>daily_bike_rides</th>\n",
       "      <th>_merge</th>\n",
       "      <th>value</th>\n",
       "      <th>date</th>\n",
       "      <th>month</th>\n",
       "      <th>season</th>\n",
       "    </tr>\n",
       "  </thead>\n",
       "  <tbody>\n",
       "    <tr>\n",
       "      <th>0</th>\n",
       "      <td>B42E6C17AF007611</td>\n",
       "      <td>classic_bike</td>\n",
       "      <td>2022-01-01</td>\n",
       "      <td>2022-01-01 00:25:03</td>\n",
       "      <td>Hoboken Terminal - River St &amp; Hudson Pl</td>\n",
       "      <td>HB102</td>\n",
       "      <td>Adams St &amp; 2 St</td>\n",
       "      <td>HB407</td>\n",
       "      <td>40.736068</td>\n",
       "      <td>-74.029127</td>\n",
       "      <td>40.739814</td>\n",
       "      <td>-74.036904</td>\n",
       "      <td>member</td>\n",
       "      <td>11.6</td>\n",
       "      <td>592</td>\n",
       "      <td>both</td>\n",
       "      <td>1</td>\n",
       "      <td>2022-01-01</td>\n",
       "      <td>1</td>\n",
       "      <td>winter</td>\n",
       "    </tr>\n",
       "    <tr>\n",
       "      <th>1</th>\n",
       "      <td>D5C9BBDBC66CEBF6</td>\n",
       "      <td>classic_bike</td>\n",
       "      <td>2022-01-01</td>\n",
       "      <td>2022-01-01 13:57:13</td>\n",
       "      <td>14 St Ferry - 14 St &amp; Shipyard Ln</td>\n",
       "      <td>HB202</td>\n",
       "      <td>Hoboken Terminal - River St &amp; Hudson Pl</td>\n",
       "      <td>HB102</td>\n",
       "      <td>40.752961</td>\n",
       "      <td>-74.024353</td>\n",
       "      <td>40.736068</td>\n",
       "      <td>-74.029127</td>\n",
       "      <td>member</td>\n",
       "      <td>11.6</td>\n",
       "      <td>592</td>\n",
       "      <td>both</td>\n",
       "      <td>1</td>\n",
       "      <td>2022-01-01</td>\n",
       "      <td>1</td>\n",
       "      <td>winter</td>\n",
       "    </tr>\n",
       "    <tr>\n",
       "      <th>2</th>\n",
       "      <td>F7D69E45F52F0ECA</td>\n",
       "      <td>electric_bike</td>\n",
       "      <td>2022-01-01</td>\n",
       "      <td>2022-01-02 00:34:32</td>\n",
       "      <td>South Waterfront Walkway - Sinatra Dr &amp; 1 St</td>\n",
       "      <td>HB103</td>\n",
       "      <td>Brunswick &amp; 6th</td>\n",
       "      <td>JC081</td>\n",
       "      <td>40.736982</td>\n",
       "      <td>-74.027781</td>\n",
       "      <td>40.726012</td>\n",
       "      <td>-74.050389</td>\n",
       "      <td>casual</td>\n",
       "      <td>11.6</td>\n",
       "      <td>592</td>\n",
       "      <td>both</td>\n",
       "      <td>1</td>\n",
       "      <td>2022-01-01</td>\n",
       "      <td>1</td>\n",
       "      <td>winter</td>\n",
       "    </tr>\n",
       "  </tbody>\n",
       "</table>\n",
       "</div>"
      ],
      "text/plain": [
       "            ride_id  rideable_type  started_at             ended_at  \\\n",
       "0  B42E6C17AF007611   classic_bike  2022-01-01  2022-01-01 00:25:03   \n",
       "1  D5C9BBDBC66CEBF6   classic_bike  2022-01-01  2022-01-01 13:57:13   \n",
       "2  F7D69E45F52F0ECA  electric_bike  2022-01-01  2022-01-02 00:34:32   \n",
       "\n",
       "                             start_station_name start_station_id  \\\n",
       "0       Hoboken Terminal - River St & Hudson Pl            HB102   \n",
       "1             14 St Ferry - 14 St & Shipyard Ln            HB202   \n",
       "2  South Waterfront Walkway - Sinatra Dr & 1 St            HB103   \n",
       "\n",
       "                          end_station_name end_station_id  start_lat  \\\n",
       "0                          Adams St & 2 St          HB407  40.736068   \n",
       "1  Hoboken Terminal - River St & Hudson Pl          HB102  40.752961   \n",
       "2                          Brunswick & 6th          JC081  40.736982   \n",
       "\n",
       "   start_lng    end_lat    end_lng member_casual  avgTemp  daily_bike_rides  \\\n",
       "0 -74.029127  40.739814 -74.036904        member     11.6               592   \n",
       "1 -74.024353  40.736068 -74.029127        member     11.6               592   \n",
       "2 -74.027781  40.726012 -74.050389        casual     11.6               592   \n",
       "\n",
       "  _merge  value       date  month  season  \n",
       "0   both      1 2022-01-01      1  winter  \n",
       "1   both      1 2022-01-01      1  winter  \n",
       "2   both      1 2022-01-01      1  winter  "
      ]
     },
     "execution_count": 9,
     "metadata": {},
     "output_type": "execute_result"
    }
   ],
   "source": [
    "df.head(3)"
   ]
  },
  {
   "cell_type": "code",
   "execution_count": 10,
   "id": "5b8fa32d-6869-4409-9208-3ebaa6b15139",
   "metadata": {},
   "outputs": [
    {
     "data": {
      "text/plain": [
       "ride_id                       object\n",
       "rideable_type                 object\n",
       "started_at                    object\n",
       "ended_at                      object\n",
       "start_station_name            object\n",
       "start_station_id              object\n",
       "end_station_name              object\n",
       "end_station_id                object\n",
       "start_lat                    float64\n",
       "start_lng                    float64\n",
       "end_lat                      float64\n",
       "end_lng                      float64\n",
       "member_casual                 object\n",
       "avgTemp                      float64\n",
       "daily_bike_rides               int64\n",
       "_merge                        object\n",
       "value                          int64\n",
       "date                  datetime64[ns]\n",
       "month                          int64\n",
       "season                        object\n",
       "dtype: object"
      ]
     },
     "execution_count": 10,
     "metadata": {},
     "output_type": "execute_result"
    }
   ],
   "source": [
    "df.dtypes"
   ]
  },
  {
   "cell_type": "code",
   "execution_count": 11,
   "id": "3851e5c9-e5bd-4c58-8c56-55816155937f",
   "metadata": {},
   "outputs": [
    {
     "data": {
      "text/plain": [
       "(895485, 20)"
      ]
     },
     "execution_count": 11,
     "metadata": {},
     "output_type": "execute_result"
    }
   ],
   "source": [
    "df.shape"
   ]
  },
  {
   "cell_type": "code",
   "execution_count": 12,
   "id": "06da5b63-d630-44db-91b5-b01e4770f461",
   "metadata": {},
   "outputs": [],
   "source": [
    "#Top 20 Stations dataframe\n",
    "top20 = pd.read_csv('top20.csv', index_col = 0)"
   ]
  },
  {
   "cell_type": "code",
   "execution_count": 13,
   "id": "18f73812-c193-455b-8da0-79f256056024",
   "metadata": {},
   "outputs": [
    {
     "data": {
      "text/html": [
       "<div>\n",
       "<style scoped>\n",
       "    .dataframe tbody tr th:only-of-type {\n",
       "        vertical-align: middle;\n",
       "    }\n",
       "\n",
       "    .dataframe tbody tr th {\n",
       "        vertical-align: top;\n",
       "    }\n",
       "\n",
       "    .dataframe thead th {\n",
       "        text-align: right;\n",
       "    }\n",
       "</style>\n",
       "<table border=\"1\" class=\"dataframe\">\n",
       "  <thead>\n",
       "    <tr style=\"text-align: right;\">\n",
       "      <th></th>\n",
       "      <th>start_station_name</th>\n",
       "      <th>value</th>\n",
       "    </tr>\n",
       "  </thead>\n",
       "  <tbody>\n",
       "    <tr>\n",
       "      <th>37</th>\n",
       "      <td>Grove St PATH</td>\n",
       "      <td>42556</td>\n",
       "    </tr>\n",
       "    <tr>\n",
       "      <th>75</th>\n",
       "      <td>South Waterfront Walkway - Sinatra Dr &amp; 1 St</td>\n",
       "      <td>34245</td>\n",
       "    </tr>\n",
       "    <tr>\n",
       "      <th>44</th>\n",
       "      <td>Hoboken Terminal - River St &amp; Hudson Pl</td>\n",
       "      <td>33020</td>\n",
       "    </tr>\n",
       "  </tbody>\n",
       "</table>\n",
       "</div>"
      ],
      "text/plain": [
       "                              start_station_name  value\n",
       "37                                 Grove St PATH  42556\n",
       "75  South Waterfront Walkway - Sinatra Dr & 1 St  34245\n",
       "44       Hoboken Terminal - River St & Hudson Pl  33020"
      ]
     },
     "execution_count": 13,
     "metadata": {},
     "output_type": "execute_result"
    }
   ],
   "source": [
    "top20.head(3)"
   ]
  },
  {
   "cell_type": "code",
   "execution_count": 14,
   "id": "68b664e4-45d3-49f9-a3a3-aa758e32853e",
   "metadata": {},
   "outputs": [
    {
     "data": {
      "text/plain": [
       "(20, 2)"
      ]
     },
     "execution_count": 14,
     "metadata": {},
     "output_type": "execute_result"
    }
   ],
   "source": [
    "top20.shape"
   ]
  },
  {
   "cell_type": "markdown",
   "id": "57f9eb62-b443-4c90-a953-a8297af751e2",
   "metadata": {},
   "source": [
    "## 03. Dataset Final Formatting"
   ]
  },
  {
   "cell_type": "code",
   "execution_count": 15,
   "id": "76f5d388-50b5-471f-9981-af682434644e",
   "metadata": {},
   "outputs": [
    {
     "data": {
      "text/plain": [
       "Index(['start_station_name', 'value'], dtype='object')"
      ]
     },
     "execution_count": 15,
     "metadata": {},
     "output_type": "execute_result"
    }
   ],
   "source": [
    "top20.columns"
   ]
  },
  {
   "cell_type": "code",
   "execution_count": 16,
   "id": "92f5cbda-635b-46ab-880a-e3a9017578c7",
   "metadata": {},
   "outputs": [
    {
     "data": {
      "text/plain": [
       "Index(['ride_id', 'rideable_type', 'started_at', 'ended_at',\n",
       "       'start_station_name', 'start_station_id', 'end_station_name',\n",
       "       'end_station_id', 'start_lat', 'start_lng', 'end_lat', 'end_lng',\n",
       "       'member_casual', 'avgTemp', 'daily_bike_rides', '_merge', 'value',\n",
       "       'date', 'month', 'season'],\n",
       "      dtype='object')"
      ]
     },
     "execution_count": 16,
     "metadata": {},
     "output_type": "execute_result"
    }
   ],
   "source": [
    "df.columns"
   ]
  },
  {
   "cell_type": "code",
   "execution_count": 17,
   "id": "f22c532f-c1d5-4478-92f4-4bd881e775c4",
   "metadata": {},
   "outputs": [],
   "source": [
    "#Create a copy of the main dataframe with fewer columns ** Reduce the row and column count\n",
    "df_reduced = df.drop(columns = {'ride_id', 'rideable_type', 'started_at', 'ended_at',\n",
    "                                'start_station_id', 'end_station_id', 'member_casual', '_merge', 'month'})"
   ]
  },
  {
   "cell_type": "code",
   "execution_count": 18,
   "id": "0c8271ce-5546-4d1b-9281-847f3307e029",
   "metadata": {},
   "outputs": [
    {
     "data": {
      "text/html": [
       "<div>\n",
       "<style scoped>\n",
       "    .dataframe tbody tr th:only-of-type {\n",
       "        vertical-align: middle;\n",
       "    }\n",
       "\n",
       "    .dataframe tbody tr th {\n",
       "        vertical-align: top;\n",
       "    }\n",
       "\n",
       "    .dataframe thead th {\n",
       "        text-align: right;\n",
       "    }\n",
       "</style>\n",
       "<table border=\"1\" class=\"dataframe\">\n",
       "  <thead>\n",
       "    <tr style=\"text-align: right;\">\n",
       "      <th></th>\n",
       "      <th>start_station_name</th>\n",
       "      <th>end_station_name</th>\n",
       "      <th>start_lat</th>\n",
       "      <th>start_lng</th>\n",
       "      <th>end_lat</th>\n",
       "      <th>end_lng</th>\n",
       "      <th>avgTemp</th>\n",
       "      <th>daily_bike_rides</th>\n",
       "      <th>value</th>\n",
       "      <th>date</th>\n",
       "      <th>season</th>\n",
       "    </tr>\n",
       "  </thead>\n",
       "  <tbody>\n",
       "    <tr>\n",
       "      <th>0</th>\n",
       "      <td>Hoboken Terminal - River St &amp; Hudson Pl</td>\n",
       "      <td>Adams St &amp; 2 St</td>\n",
       "      <td>40.736068</td>\n",
       "      <td>-74.029127</td>\n",
       "      <td>40.739814</td>\n",
       "      <td>-74.036904</td>\n",
       "      <td>11.6</td>\n",
       "      <td>592</td>\n",
       "      <td>1</td>\n",
       "      <td>2022-01-01</td>\n",
       "      <td>winter</td>\n",
       "    </tr>\n",
       "    <tr>\n",
       "      <th>1</th>\n",
       "      <td>14 St Ferry - 14 St &amp; Shipyard Ln</td>\n",
       "      <td>Hoboken Terminal - River St &amp; Hudson Pl</td>\n",
       "      <td>40.752961</td>\n",
       "      <td>-74.024353</td>\n",
       "      <td>40.736068</td>\n",
       "      <td>-74.029127</td>\n",
       "      <td>11.6</td>\n",
       "      <td>592</td>\n",
       "      <td>1</td>\n",
       "      <td>2022-01-01</td>\n",
       "      <td>winter</td>\n",
       "    </tr>\n",
       "    <tr>\n",
       "      <th>2</th>\n",
       "      <td>South Waterfront Walkway - Sinatra Dr &amp; 1 St</td>\n",
       "      <td>Brunswick &amp; 6th</td>\n",
       "      <td>40.736982</td>\n",
       "      <td>-74.027781</td>\n",
       "      <td>40.726012</td>\n",
       "      <td>-74.050389</td>\n",
       "      <td>11.6</td>\n",
       "      <td>592</td>\n",
       "      <td>1</td>\n",
       "      <td>2022-01-01</td>\n",
       "      <td>winter</td>\n",
       "    </tr>\n",
       "  </tbody>\n",
       "</table>\n",
       "</div>"
      ],
      "text/plain": [
       "                             start_station_name  \\\n",
       "0       Hoboken Terminal - River St & Hudson Pl   \n",
       "1             14 St Ferry - 14 St & Shipyard Ln   \n",
       "2  South Waterfront Walkway - Sinatra Dr & 1 St   \n",
       "\n",
       "                          end_station_name  start_lat  start_lng    end_lat  \\\n",
       "0                          Adams St & 2 St  40.736068 -74.029127  40.739814   \n",
       "1  Hoboken Terminal - River St & Hudson Pl  40.752961 -74.024353  40.736068   \n",
       "2                          Brunswick & 6th  40.736982 -74.027781  40.726012   \n",
       "\n",
       "     end_lng  avgTemp  daily_bike_rides  value       date  season  \n",
       "0 -74.036904     11.6               592      1 2022-01-01  winter  \n",
       "1 -74.029127     11.6               592      1 2022-01-01  winter  \n",
       "2 -74.050389     11.6               592      1 2022-01-01  winter  "
      ]
     },
     "execution_count": 18,
     "metadata": {},
     "output_type": "execute_result"
    }
   ],
   "source": [
    "df_reduced.head(3)"
   ]
  },
  {
   "cell_type": "code",
   "execution_count": 19,
   "id": "e2f30f62-633d-4b6b-9903-b1a02d3ae38e",
   "metadata": {},
   "outputs": [
    {
     "data": {
      "text/plain": [
       "(895485, 11)"
      ]
     },
     "execution_count": 19,
     "metadata": {},
     "output_type": "execute_result"
    }
   ],
   "source": [
    "df_reduced.shape"
   ]
  },
  {
   "cell_type": "code",
   "execution_count": 20,
   "id": "13f8978b-c32d-4e8c-b764-3195257425b6",
   "metadata": {},
   "outputs": [],
   "source": [
    "#Create a random split **set the seed to 32\n",
    "np.random.seed(32) #Ensure the results reproducibility\n",
    "\n",
    "#Create a random sample of your main dataframe **df_reduced** [to be able to work with <25MB]\n",
    "rand_reduced = np.random.rand(len(df_reduced)) <= 0.92"
   ]
  },
  {
   "cell_type": "code",
   "execution_count": 21,
   "id": "07f39c42-bc15-4402-ab8d-fabc28b3a122",
   "metadata": {},
   "outputs": [
    {
     "data": {
      "text/plain": [
       "dtype('bool')"
      ]
     },
     "execution_count": 21,
     "metadata": {},
     "output_type": "execute_result"
    }
   ],
   "source": [
    "rand_reduced.dtype"
   ]
  },
  {
   "cell_type": "code",
   "execution_count": 22,
   "id": "7fd3bf9c-bc15-47b9-9825-484a06d2a13e",
   "metadata": {},
   "outputs": [],
   "source": [
    "#Create a dataframe all the rows from df_reduced that were not selected by the rand_reduced condition\n",
    "df_small = df_reduced[~rand_reduced]"
   ]
  },
  {
   "cell_type": "code",
   "execution_count": 23,
   "id": "0172edb1-fb95-49d2-82ce-1d2cb8848840",
   "metadata": {},
   "outputs": [
    {
     "data": {
      "text/html": [
       "<div>\n",
       "<style scoped>\n",
       "    .dataframe tbody tr th:only-of-type {\n",
       "        vertical-align: middle;\n",
       "    }\n",
       "\n",
       "    .dataframe tbody tr th {\n",
       "        vertical-align: top;\n",
       "    }\n",
       "\n",
       "    .dataframe thead th {\n",
       "        text-align: right;\n",
       "    }\n",
       "</style>\n",
       "<table border=\"1\" class=\"dataframe\">\n",
       "  <thead>\n",
       "    <tr style=\"text-align: right;\">\n",
       "      <th></th>\n",
       "      <th>start_station_name</th>\n",
       "      <th>end_station_name</th>\n",
       "      <th>start_lat</th>\n",
       "      <th>start_lng</th>\n",
       "      <th>end_lat</th>\n",
       "      <th>end_lng</th>\n",
       "      <th>avgTemp</th>\n",
       "      <th>daily_bike_rides</th>\n",
       "      <th>value</th>\n",
       "      <th>date</th>\n",
       "      <th>season</th>\n",
       "    </tr>\n",
       "  </thead>\n",
       "  <tbody>\n",
       "    <tr>\n",
       "      <th>3</th>\n",
       "      <td>Columbus Drive</td>\n",
       "      <td>Hilltop</td>\n",
       "      <td>40.718355</td>\n",
       "      <td>-74.038914</td>\n",
       "      <td>40.731169</td>\n",
       "      <td>-74.057574</td>\n",
       "      <td>11.6</td>\n",
       "      <td>592</td>\n",
       "      <td>1</td>\n",
       "      <td>2022-01-01</td>\n",
       "      <td>winter</td>\n",
       "    </tr>\n",
       "    <tr>\n",
       "      <th>7</th>\n",
       "      <td>Church Sq Park - 5 St &amp; Park Ave</td>\n",
       "      <td>Willow Ave &amp; 12 St</td>\n",
       "      <td>40.742659</td>\n",
       "      <td>-74.032233</td>\n",
       "      <td>40.751867</td>\n",
       "      <td>-74.030377</td>\n",
       "      <td>11.6</td>\n",
       "      <td>592</td>\n",
       "      <td>1</td>\n",
       "      <td>2022-01-01</td>\n",
       "      <td>winter</td>\n",
       "    </tr>\n",
       "    <tr>\n",
       "      <th>25</th>\n",
       "      <td>Washington St</td>\n",
       "      <td>Newport PATH</td>\n",
       "      <td>40.724294</td>\n",
       "      <td>-74.035483</td>\n",
       "      <td>40.727224</td>\n",
       "      <td>-74.033759</td>\n",
       "      <td>11.6</td>\n",
       "      <td>592</td>\n",
       "      <td>1</td>\n",
       "      <td>2022-01-01</td>\n",
       "      <td>winter</td>\n",
       "    </tr>\n",
       "  </tbody>\n",
       "</table>\n",
       "</div>"
      ],
      "text/plain": [
       "                  start_station_name    end_station_name  start_lat  \\\n",
       "3                     Columbus Drive             Hilltop  40.718355   \n",
       "7   Church Sq Park - 5 St & Park Ave  Willow Ave & 12 St  40.742659   \n",
       "25                     Washington St        Newport PATH  40.724294   \n",
       "\n",
       "    start_lng    end_lat    end_lng  avgTemp  daily_bike_rides  value  \\\n",
       "3  -74.038914  40.731169 -74.057574     11.6               592      1   \n",
       "7  -74.032233  40.751867 -74.030377     11.6               592      1   \n",
       "25 -74.035483  40.727224 -74.033759     11.6               592      1   \n",
       "\n",
       "         date  season  \n",
       "3  2022-01-01  winter  \n",
       "7  2022-01-01  winter  \n",
       "25 2022-01-01  winter  "
      ]
     },
     "execution_count": 23,
     "metadata": {},
     "output_type": "execute_result"
    }
   ],
   "source": [
    "df_small.head(3)"
   ]
  },
  {
   "cell_type": "code",
   "execution_count": 24,
   "id": "f11a7e17-9168-495d-849e-10766298af93",
   "metadata": {},
   "outputs": [
    {
     "data": {
      "text/plain": [
       "(71391, 11)"
      ]
     },
     "execution_count": 24,
     "metadata": {},
     "output_type": "execute_result"
    }
   ],
   "source": [
    "df_small.shape"
   ]
  },
  {
   "cell_type": "markdown",
   "id": "e6fb734f-e3ac-4416-ba93-08c82b081d46",
   "metadata": {},
   "source": [
    "# 04. Export Data"
   ]
  },
  {
   "cell_type": "code",
   "execution_count": 25,
   "id": "1c66db32-bb68-4301-a582-8aabd074cd51",
   "metadata": {},
   "outputs": [],
   "source": [
    "df_small.to_csv('rand_reduced_data_for_plot.csv',index = False)"
   ]
  },
  {
   "cell_type": "code",
   "execution_count": 26,
   "id": "401fed52-c7bc-48e8-883c-1e77de025218",
   "metadata": {},
   "outputs": [],
   "source": [
    "df_reduced.to_csv('reduced_data_to_plot.csv')"
   ]
  },
  {
   "cell_type": "code",
   "execution_count": null,
   "id": "92bbbdc0-929f-41b6-aa43-5befd23ca075",
   "metadata": {},
   "outputs": [],
   "source": []
  }
 ],
 "metadata": {
  "kernelspec": {
   "display_name": "Python [conda env:CitiBike] *",
   "language": "python",
   "name": "conda-env-CitiBike-py"
  },
  "language_info": {
   "codemirror_mode": {
    "name": "ipython",
    "version": 3
   },
   "file_extension": ".py",
   "mimetype": "text/x-python",
   "name": "python",
   "nbconvert_exporter": "python",
   "pygments_lexer": "ipython3",
   "version": "3.13.2"
  },
  "widgets": {
   "application/vnd.jupyter.widget-state+json": {
    "state": {},
    "version_major": 2,
    "version_minor": 0
   }
  }
 },
 "nbformat": 4,
 "nbformat_minor": 5
}
