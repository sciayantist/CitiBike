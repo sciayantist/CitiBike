{
 "cells": [
  {
   "cell_type": "markdown",
   "id": "023d3547-a663-48ef-9f5a-14a760752425",
   "metadata": {},
   "source": [
    "# Creating Dashboards with streamlit\n",
    "\n",
    "## 01. Import Libraries\n",
    "## 02. Import Data\n",
    "## 03. Data Wrangling/Preprocessing\n",
    "## 04. Create Charts with plotly\n",
    "#### 04.1 Bar Chart\n",
    "#### 04.2 Dual-Axis Line Charts \n",
    "#### 04.3 The Map"
   ]
  },
  {
   "cell_type": "markdown",
   "id": "c22fc444-8ba4-4ef9-9422-759687719021",
   "metadata": {},
   "source": [
    "## 01. Import Libraries"
   ]
  },
  {
   "cell_type": "code",
   "execution_count": 1,
   "id": "cd4f4ccf-5a7a-483b-8940-b801db0cb7a7",
   "metadata": {},
   "outputs": [
    {
     "name": "stderr",
     "output_type": "stream",
     "text": [
      "/opt/anaconda3/envs/CitiBike/lib/python3.13/site-packages/pyproj/network.py:59: UserWarning: pyproj unable to set PROJ database path.\n",
      "  _set_context_ca_bundle_path(ca_bundle_path)\n"
     ]
    }
   ],
   "source": [
    "import pandas as pd\n",
    "import numpy as np\n",
    "import matplotlib.pyplot as plt\n",
    "import streamlit as st\n",
    "import plotly.graph_objects as go\n",
    "import plotly.express as px\n",
    "from plotly.subplots import make_subplots\n",
    "from datetime import datetime as dt\n",
    "from streamlit_keplergl import keplergl_static\n",
    "\n",
    "#Install the requirements **streamlit**\n",
    "#conda install -c conda-forge streamlit\n",
    "#pip install plotly streamlit streamlit_keplergl numerize pillow"
   ]
  },
  {
   "cell_type": "code",
   "execution_count": 2,
   "id": "c0393472-926c-42a8-b369-d97441d07541",
   "metadata": {},
   "outputs": [],
   "source": [
    "## 02. Import Data"
   ]
  },
  {
   "cell_type": "code",
   "execution_count": 3,
   "id": "5c96e9be-f0d0-43e5-952c-8101ced0c4c2",
   "metadata": {},
   "outputs": [],
   "source": [
    "df = pd.read_csv('SeabornViz.csv')"
   ]
  },
  {
   "cell_type": "code",
   "execution_count": 4,
   "id": "9453f5ba-d529-408f-b60a-bdfe8ed18f1f",
   "metadata": {},
   "outputs": [
    {
     "data": {
      "text/html": [
       "<div>\n",
       "<style scoped>\n",
       "    .dataframe tbody tr th:only-of-type {\n",
       "        vertical-align: middle;\n",
       "    }\n",
       "\n",
       "    .dataframe tbody tr th {\n",
       "        vertical-align: top;\n",
       "    }\n",
       "\n",
       "    .dataframe thead th {\n",
       "        text-align: right;\n",
       "    }\n",
       "</style>\n",
       "<table border=\"1\" class=\"dataframe\">\n",
       "  <thead>\n",
       "    <tr style=\"text-align: right;\">\n",
       "      <th></th>\n",
       "      <th>ride_id</th>\n",
       "      <th>rideable_type</th>\n",
       "      <th>started_at</th>\n",
       "      <th>ended_at</th>\n",
       "      <th>start_station_name</th>\n",
       "      <th>start_station_id</th>\n",
       "      <th>end_station_name</th>\n",
       "      <th>end_station_id</th>\n",
       "      <th>start_lat</th>\n",
       "      <th>start_lng</th>\n",
       "      <th>end_lat</th>\n",
       "      <th>end_lng</th>\n",
       "      <th>member_casual</th>\n",
       "      <th>avgTemp</th>\n",
       "      <th>daily_bike_rides</th>\n",
       "      <th>_merge</th>\n",
       "      <th>value</th>\n",
       "    </tr>\n",
       "  </thead>\n",
       "  <tbody>\n",
       "    <tr>\n",
       "      <th>0</th>\n",
       "      <td>B42E6C17AF007611</td>\n",
       "      <td>classic_bike</td>\n",
       "      <td>2022-01-01</td>\n",
       "      <td>2022-01-01 00:25:03</td>\n",
       "      <td>Hoboken Terminal - River St &amp; Hudson Pl</td>\n",
       "      <td>HB102</td>\n",
       "      <td>Adams St &amp; 2 St</td>\n",
       "      <td>HB407</td>\n",
       "      <td>40.736068</td>\n",
       "      <td>-74.029127</td>\n",
       "      <td>40.739814</td>\n",
       "      <td>-74.036904</td>\n",
       "      <td>member</td>\n",
       "      <td>11.6</td>\n",
       "      <td>592</td>\n",
       "      <td>both</td>\n",
       "      <td>1</td>\n",
       "    </tr>\n",
       "    <tr>\n",
       "      <th>1</th>\n",
       "      <td>D5C9BBDBC66CEBF6</td>\n",
       "      <td>classic_bike</td>\n",
       "      <td>2022-01-01</td>\n",
       "      <td>2022-01-01 13:57:13</td>\n",
       "      <td>14 St Ferry - 14 St &amp; Shipyard Ln</td>\n",
       "      <td>HB202</td>\n",
       "      <td>Hoboken Terminal - River St &amp; Hudson Pl</td>\n",
       "      <td>HB102</td>\n",
       "      <td>40.752961</td>\n",
       "      <td>-74.024353</td>\n",
       "      <td>40.736068</td>\n",
       "      <td>-74.029127</td>\n",
       "      <td>member</td>\n",
       "      <td>11.6</td>\n",
       "      <td>592</td>\n",
       "      <td>both</td>\n",
       "      <td>1</td>\n",
       "    </tr>\n",
       "    <tr>\n",
       "      <th>2</th>\n",
       "      <td>F7D69E45F52F0ECA</td>\n",
       "      <td>electric_bike</td>\n",
       "      <td>2022-01-01</td>\n",
       "      <td>2022-01-02 00:34:32</td>\n",
       "      <td>South Waterfront Walkway - Sinatra Dr &amp; 1 St</td>\n",
       "      <td>HB103</td>\n",
       "      <td>Brunswick &amp; 6th</td>\n",
       "      <td>JC081</td>\n",
       "      <td>40.736982</td>\n",
       "      <td>-74.027781</td>\n",
       "      <td>40.726012</td>\n",
       "      <td>-74.050389</td>\n",
       "      <td>casual</td>\n",
       "      <td>11.6</td>\n",
       "      <td>592</td>\n",
       "      <td>both</td>\n",
       "      <td>1</td>\n",
       "    </tr>\n",
       "  </tbody>\n",
       "</table>\n",
       "</div>"
      ],
      "text/plain": [
       "            ride_id  rideable_type  started_at             ended_at  \\\n",
       "0  B42E6C17AF007611   classic_bike  2022-01-01  2022-01-01 00:25:03   \n",
       "1  D5C9BBDBC66CEBF6   classic_bike  2022-01-01  2022-01-01 13:57:13   \n",
       "2  F7D69E45F52F0ECA  electric_bike  2022-01-01  2022-01-02 00:34:32   \n",
       "\n",
       "                             start_station_name start_station_id  \\\n",
       "0       Hoboken Terminal - River St & Hudson Pl            HB102   \n",
       "1             14 St Ferry - 14 St & Shipyard Ln            HB202   \n",
       "2  South Waterfront Walkway - Sinatra Dr & 1 St            HB103   \n",
       "\n",
       "                          end_station_name end_station_id  start_lat  \\\n",
       "0                          Adams St & 2 St          HB407  40.736068   \n",
       "1  Hoboken Terminal - River St & Hudson Pl          HB102  40.752961   \n",
       "2                          Brunswick & 6th          JC081  40.736982   \n",
       "\n",
       "   start_lng    end_lat    end_lng member_casual  avgTemp  daily_bike_rides  \\\n",
       "0 -74.029127  40.739814 -74.036904        member     11.6               592   \n",
       "1 -74.024353  40.736068 -74.029127        member     11.6               592   \n",
       "2 -74.027781  40.726012 -74.050389        casual     11.6               592   \n",
       "\n",
       "  _merge  value  \n",
       "0   both      1  \n",
       "1   both      1  \n",
       "2   both      1  "
      ]
     },
     "execution_count": 4,
     "metadata": {},
     "output_type": "execute_result"
    }
   ],
   "source": [
    "df.head(3)"
   ]
  },
  {
   "cell_type": "code",
   "execution_count": 5,
   "id": "62ccec8f-6741-4396-9b90-bfb261831a95",
   "metadata": {},
   "outputs": [
    {
     "data": {
      "text/plain": [
       "ride_id                object\n",
       "rideable_type          object\n",
       "started_at             object\n",
       "ended_at               object\n",
       "start_station_name     object\n",
       "start_station_id       object\n",
       "end_station_name       object\n",
       "end_station_id         object\n",
       "start_lat             float64\n",
       "start_lng             float64\n",
       "end_lat               float64\n",
       "end_lng               float64\n",
       "member_casual          object\n",
       "avgTemp               float64\n",
       "daily_bike_rides        int64\n",
       "_merge                 object\n",
       "value                   int64\n",
       "dtype: object"
      ]
     },
     "execution_count": 5,
     "metadata": {},
     "output_type": "execute_result"
    }
   ],
   "source": [
    "df.dtypes"
   ]
  },
  {
   "cell_type": "markdown",
   "id": "23876767-92a2-4ace-9216-9bd640fa0553",
   "metadata": {},
   "source": [
    "## 03. Data Wrangling/Preprocessing"
   ]
  },
  {
   "cell_type": "code",
   "execution_count": 6,
   "id": "2537aa08-06e6-44d4-a64e-66fd482e0ea6",
   "metadata": {},
   "outputs": [],
   "source": [
    "#Create a month column\n",
    "df['date'] = pd.to_datetime(df['started_at'], format = '%Y-%m-%d')"
   ]
  },
  {
   "cell_type": "code",
   "execution_count": 7,
   "id": "7d9dd98a-cb95-4172-becf-672f180f4622",
   "metadata": {},
   "outputs": [],
   "source": [
    "df['month'] = df['date'].dt.month"
   ]
  },
  {
   "cell_type": "code",
   "execution_count": 8,
   "id": "b8fa7f0d-4306-4ba2-8a56-e785be40d310",
   "metadata": {},
   "outputs": [],
   "source": [
    "df['month'] = df['month'].astype('int')"
   ]
  },
  {
   "cell_type": "code",
   "execution_count": 9,
   "id": "65a005c9-623d-4b75-a1cf-9c763a30d449",
   "metadata": {},
   "outputs": [
    {
     "data": {
      "text/html": [
       "<div>\n",
       "<style scoped>\n",
       "    .dataframe tbody tr th:only-of-type {\n",
       "        vertical-align: middle;\n",
       "    }\n",
       "\n",
       "    .dataframe tbody tr th {\n",
       "        vertical-align: top;\n",
       "    }\n",
       "\n",
       "    .dataframe thead th {\n",
       "        text-align: right;\n",
       "    }\n",
       "</style>\n",
       "<table border=\"1\" class=\"dataframe\">\n",
       "  <thead>\n",
       "    <tr style=\"text-align: right;\">\n",
       "      <th></th>\n",
       "      <th>ride_id</th>\n",
       "      <th>rideable_type</th>\n",
       "      <th>started_at</th>\n",
       "      <th>ended_at</th>\n",
       "      <th>start_station_name</th>\n",
       "      <th>start_station_id</th>\n",
       "      <th>end_station_name</th>\n",
       "      <th>end_station_id</th>\n",
       "      <th>start_lat</th>\n",
       "      <th>start_lng</th>\n",
       "      <th>end_lat</th>\n",
       "      <th>end_lng</th>\n",
       "      <th>member_casual</th>\n",
       "      <th>avgTemp</th>\n",
       "      <th>daily_bike_rides</th>\n",
       "      <th>_merge</th>\n",
       "      <th>value</th>\n",
       "      <th>date</th>\n",
       "      <th>month</th>\n",
       "    </tr>\n",
       "  </thead>\n",
       "  <tbody>\n",
       "    <tr>\n",
       "      <th>0</th>\n",
       "      <td>B42E6C17AF007611</td>\n",
       "      <td>classic_bike</td>\n",
       "      <td>2022-01-01</td>\n",
       "      <td>2022-01-01 00:25:03</td>\n",
       "      <td>Hoboken Terminal - River St &amp; Hudson Pl</td>\n",
       "      <td>HB102</td>\n",
       "      <td>Adams St &amp; 2 St</td>\n",
       "      <td>HB407</td>\n",
       "      <td>40.736068</td>\n",
       "      <td>-74.029127</td>\n",
       "      <td>40.739814</td>\n",
       "      <td>-74.036904</td>\n",
       "      <td>member</td>\n",
       "      <td>11.6</td>\n",
       "      <td>592</td>\n",
       "      <td>both</td>\n",
       "      <td>1</td>\n",
       "      <td>2022-01-01</td>\n",
       "      <td>1</td>\n",
       "    </tr>\n",
       "    <tr>\n",
       "      <th>1</th>\n",
       "      <td>D5C9BBDBC66CEBF6</td>\n",
       "      <td>classic_bike</td>\n",
       "      <td>2022-01-01</td>\n",
       "      <td>2022-01-01 13:57:13</td>\n",
       "      <td>14 St Ferry - 14 St &amp; Shipyard Ln</td>\n",
       "      <td>HB202</td>\n",
       "      <td>Hoboken Terminal - River St &amp; Hudson Pl</td>\n",
       "      <td>HB102</td>\n",
       "      <td>40.752961</td>\n",
       "      <td>-74.024353</td>\n",
       "      <td>40.736068</td>\n",
       "      <td>-74.029127</td>\n",
       "      <td>member</td>\n",
       "      <td>11.6</td>\n",
       "      <td>592</td>\n",
       "      <td>both</td>\n",
       "      <td>1</td>\n",
       "      <td>2022-01-01</td>\n",
       "      <td>1</td>\n",
       "    </tr>\n",
       "    <tr>\n",
       "      <th>2</th>\n",
       "      <td>F7D69E45F52F0ECA</td>\n",
       "      <td>electric_bike</td>\n",
       "      <td>2022-01-01</td>\n",
       "      <td>2022-01-02 00:34:32</td>\n",
       "      <td>South Waterfront Walkway - Sinatra Dr &amp; 1 St</td>\n",
       "      <td>HB103</td>\n",
       "      <td>Brunswick &amp; 6th</td>\n",
       "      <td>JC081</td>\n",
       "      <td>40.736982</td>\n",
       "      <td>-74.027781</td>\n",
       "      <td>40.726012</td>\n",
       "      <td>-74.050389</td>\n",
       "      <td>casual</td>\n",
       "      <td>11.6</td>\n",
       "      <td>592</td>\n",
       "      <td>both</td>\n",
       "      <td>1</td>\n",
       "      <td>2022-01-01</td>\n",
       "      <td>1</td>\n",
       "    </tr>\n",
       "  </tbody>\n",
       "</table>\n",
       "</div>"
      ],
      "text/plain": [
       "            ride_id  rideable_type  started_at             ended_at  \\\n",
       "0  B42E6C17AF007611   classic_bike  2022-01-01  2022-01-01 00:25:03   \n",
       "1  D5C9BBDBC66CEBF6   classic_bike  2022-01-01  2022-01-01 13:57:13   \n",
       "2  F7D69E45F52F0ECA  electric_bike  2022-01-01  2022-01-02 00:34:32   \n",
       "\n",
       "                             start_station_name start_station_id  \\\n",
       "0       Hoboken Terminal - River St & Hudson Pl            HB102   \n",
       "1             14 St Ferry - 14 St & Shipyard Ln            HB202   \n",
       "2  South Waterfront Walkway - Sinatra Dr & 1 St            HB103   \n",
       "\n",
       "                          end_station_name end_station_id  start_lat  \\\n",
       "0                          Adams St & 2 St          HB407  40.736068   \n",
       "1  Hoboken Terminal - River St & Hudson Pl          HB102  40.752961   \n",
       "2                          Brunswick & 6th          JC081  40.736982   \n",
       "\n",
       "   start_lng    end_lat    end_lng member_casual  avgTemp  daily_bike_rides  \\\n",
       "0 -74.029127  40.739814 -74.036904        member     11.6               592   \n",
       "1 -74.024353  40.736068 -74.029127        member     11.6               592   \n",
       "2 -74.027781  40.726012 -74.050389        casual     11.6               592   \n",
       "\n",
       "  _merge  value       date  month  \n",
       "0   both      1 2022-01-01      1  \n",
       "1   both      1 2022-01-01      1  \n",
       "2   both      1 2022-01-01      1  "
      ]
     },
     "execution_count": 9,
     "metadata": {},
     "output_type": "execute_result"
    }
   ],
   "source": [
    "df.head(3)"
   ]
  },
  {
   "cell_type": "code",
   "execution_count": 10,
   "id": "b789f3d5-bc5d-44ac-98b7-ca179297da42",
   "metadata": {},
   "outputs": [
    {
     "data": {
      "text/plain": [
       "ride_id                       object\n",
       "rideable_type                 object\n",
       "started_at                    object\n",
       "ended_at                      object\n",
       "start_station_name            object\n",
       "start_station_id              object\n",
       "end_station_name              object\n",
       "end_station_id                object\n",
       "start_lat                    float64\n",
       "start_lng                    float64\n",
       "end_lat                      float64\n",
       "end_lng                      float64\n",
       "member_casual                 object\n",
       "avgTemp                      float64\n",
       "daily_bike_rides               int64\n",
       "_merge                        object\n",
       "value                          int64\n",
       "date                  datetime64[ns]\n",
       "month                          int64\n",
       "dtype: object"
      ]
     },
     "execution_count": 10,
     "metadata": {},
     "output_type": "execute_result"
    }
   ],
   "source": [
    "df.dtypes"
   ]
  },
  {
   "cell_type": "code",
   "execution_count": 11,
   "id": "84ac0f84-3096-4d88-9eb5-17b0e832d21b",
   "metadata": {},
   "outputs": [],
   "source": [
    "#Deriving variable - Create the season column\n",
    "df['season'] = [\n",
    "\"winter\" if (month == 12 or 1 <= month <= 3)\n",
    "    else \"spring\" if (4 < month <= 5)\n",
    "    else \"summer\" if (6 <= month <= 8)\n",
    "    else \"fall\"\n",
    "for month in df['month']\n",
    "    ]"
   ]
  },
  {
   "cell_type": "code",
   "execution_count": 12,
   "id": "44688b75-78f8-4a4d-8e85-5d6c1891f94a",
   "metadata": {},
   "outputs": [
    {
     "data": {
      "text/html": [
       "<div>\n",
       "<style scoped>\n",
       "    .dataframe tbody tr th:only-of-type {\n",
       "        vertical-align: middle;\n",
       "    }\n",
       "\n",
       "    .dataframe tbody tr th {\n",
       "        vertical-align: top;\n",
       "    }\n",
       "\n",
       "    .dataframe thead th {\n",
       "        text-align: right;\n",
       "    }\n",
       "</style>\n",
       "<table border=\"1\" class=\"dataframe\">\n",
       "  <thead>\n",
       "    <tr style=\"text-align: right;\">\n",
       "      <th></th>\n",
       "      <th>ride_id</th>\n",
       "      <th>rideable_type</th>\n",
       "      <th>started_at</th>\n",
       "      <th>ended_at</th>\n",
       "      <th>start_station_name</th>\n",
       "      <th>start_station_id</th>\n",
       "      <th>end_station_name</th>\n",
       "      <th>end_station_id</th>\n",
       "      <th>start_lat</th>\n",
       "      <th>start_lng</th>\n",
       "      <th>end_lat</th>\n",
       "      <th>end_lng</th>\n",
       "      <th>member_casual</th>\n",
       "      <th>avgTemp</th>\n",
       "      <th>daily_bike_rides</th>\n",
       "      <th>_merge</th>\n",
       "      <th>value</th>\n",
       "      <th>date</th>\n",
       "      <th>month</th>\n",
       "      <th>season</th>\n",
       "    </tr>\n",
       "  </thead>\n",
       "  <tbody>\n",
       "    <tr>\n",
       "      <th>0</th>\n",
       "      <td>B42E6C17AF007611</td>\n",
       "      <td>classic_bike</td>\n",
       "      <td>2022-01-01</td>\n",
       "      <td>2022-01-01 00:25:03</td>\n",
       "      <td>Hoboken Terminal - River St &amp; Hudson Pl</td>\n",
       "      <td>HB102</td>\n",
       "      <td>Adams St &amp; 2 St</td>\n",
       "      <td>HB407</td>\n",
       "      <td>40.736068</td>\n",
       "      <td>-74.029127</td>\n",
       "      <td>40.739814</td>\n",
       "      <td>-74.036904</td>\n",
       "      <td>member</td>\n",
       "      <td>11.6</td>\n",
       "      <td>592</td>\n",
       "      <td>both</td>\n",
       "      <td>1</td>\n",
       "      <td>2022-01-01</td>\n",
       "      <td>1</td>\n",
       "      <td>winter</td>\n",
       "    </tr>\n",
       "    <tr>\n",
       "      <th>1</th>\n",
       "      <td>D5C9BBDBC66CEBF6</td>\n",
       "      <td>classic_bike</td>\n",
       "      <td>2022-01-01</td>\n",
       "      <td>2022-01-01 13:57:13</td>\n",
       "      <td>14 St Ferry - 14 St &amp; Shipyard Ln</td>\n",
       "      <td>HB202</td>\n",
       "      <td>Hoboken Terminal - River St &amp; Hudson Pl</td>\n",
       "      <td>HB102</td>\n",
       "      <td>40.752961</td>\n",
       "      <td>-74.024353</td>\n",
       "      <td>40.736068</td>\n",
       "      <td>-74.029127</td>\n",
       "      <td>member</td>\n",
       "      <td>11.6</td>\n",
       "      <td>592</td>\n",
       "      <td>both</td>\n",
       "      <td>1</td>\n",
       "      <td>2022-01-01</td>\n",
       "      <td>1</td>\n",
       "      <td>winter</td>\n",
       "    </tr>\n",
       "    <tr>\n",
       "      <th>2</th>\n",
       "      <td>F7D69E45F52F0ECA</td>\n",
       "      <td>electric_bike</td>\n",
       "      <td>2022-01-01</td>\n",
       "      <td>2022-01-02 00:34:32</td>\n",
       "      <td>South Waterfront Walkway - Sinatra Dr &amp; 1 St</td>\n",
       "      <td>HB103</td>\n",
       "      <td>Brunswick &amp; 6th</td>\n",
       "      <td>JC081</td>\n",
       "      <td>40.736982</td>\n",
       "      <td>-74.027781</td>\n",
       "      <td>40.726012</td>\n",
       "      <td>-74.050389</td>\n",
       "      <td>casual</td>\n",
       "      <td>11.6</td>\n",
       "      <td>592</td>\n",
       "      <td>both</td>\n",
       "      <td>1</td>\n",
       "      <td>2022-01-01</td>\n",
       "      <td>1</td>\n",
       "      <td>winter</td>\n",
       "    </tr>\n",
       "  </tbody>\n",
       "</table>\n",
       "</div>"
      ],
      "text/plain": [
       "            ride_id  rideable_type  started_at             ended_at  \\\n",
       "0  B42E6C17AF007611   classic_bike  2022-01-01  2022-01-01 00:25:03   \n",
       "1  D5C9BBDBC66CEBF6   classic_bike  2022-01-01  2022-01-01 13:57:13   \n",
       "2  F7D69E45F52F0ECA  electric_bike  2022-01-01  2022-01-02 00:34:32   \n",
       "\n",
       "                             start_station_name start_station_id  \\\n",
       "0       Hoboken Terminal - River St & Hudson Pl            HB102   \n",
       "1             14 St Ferry - 14 St & Shipyard Ln            HB202   \n",
       "2  South Waterfront Walkway - Sinatra Dr & 1 St            HB103   \n",
       "\n",
       "                          end_station_name end_station_id  start_lat  \\\n",
       "0                          Adams St & 2 St          HB407  40.736068   \n",
       "1  Hoboken Terminal - River St & Hudson Pl          HB102  40.752961   \n",
       "2                          Brunswick & 6th          JC081  40.736982   \n",
       "\n",
       "   start_lng    end_lat    end_lng member_casual  avgTemp  daily_bike_rides  \\\n",
       "0 -74.029127  40.739814 -74.036904        member     11.6               592   \n",
       "1 -74.024353  40.736068 -74.029127        member     11.6               592   \n",
       "2 -74.027781  40.726012 -74.050389        casual     11.6               592   \n",
       "\n",
       "  _merge  value       date  month  season  \n",
       "0   both      1 2022-01-01      1  winter  \n",
       "1   both      1 2022-01-01      1  winter  \n",
       "2   both      1 2022-01-01      1  winter  "
      ]
     },
     "execution_count": 12,
     "metadata": {},
     "output_type": "execute_result"
    }
   ],
   "source": [
    "df.head(3)"
   ]
  },
  {
   "cell_type": "code",
   "execution_count": 13,
   "id": "6ba864ab-3ba0-401c-ad28-6c93ea55cc26",
   "metadata": {},
   "outputs": [
    {
     "data": {
      "text/plain": [
       "(895485, 20)"
      ]
     },
     "execution_count": 13,
     "metadata": {},
     "output_type": "execute_result"
    }
   ],
   "source": [
    "df.shape"
   ]
  },
  {
   "cell_type": "code",
   "execution_count": 14,
   "id": "a59f0ed9-08d3-4bb6-9ffd-e4372483a632",
   "metadata": {},
   "outputs": [
    {
     "data": {
      "text/plain": [
       "Index(['ride_id', 'rideable_type', 'started_at', 'ended_at',\n",
       "       'start_station_name', 'start_station_id', 'end_station_name',\n",
       "       'end_station_id', 'start_lat', 'start_lng', 'end_lat', 'end_lng',\n",
       "       'member_casual', 'avgTemp', 'daily_bike_rides', '_merge', 'value',\n",
       "       'date', 'month', 'season'],\n",
       "      dtype='object')"
      ]
     },
     "execution_count": 14,
     "metadata": {},
     "output_type": "execute_result"
    }
   ],
   "source": [
    "df.columns"
   ]
  },
  {
   "cell_type": "markdown",
   "id": "91a58d4e-4d46-4caf-9e0c-a164c159eda4",
   "metadata": {},
   "source": [
    "## 04. Create Charts with plotly"
   ]
  },
  {
   "cell_type": "markdown",
   "id": "8e350d75-e28a-464b-8157-f8445762292f",
   "metadata": {},
   "source": [
    "## 04.1 Bar Chart"
   ]
  },
  {
   "cell_type": "code",
   "execution_count": 15,
   "id": "0aa1faaf-3987-4897-b894-549564f42fdd",
   "metadata": {},
   "outputs": [],
   "source": [
    "#Group the data by the **'start_station_name'** and calculate the frequency/count\n",
    "df_groupby_bar = df.groupby('start_station_name', as_index=False).agg({'value' : 'sum'})"
   ]
  },
  {
   "cell_type": "code",
   "execution_count": 16,
   "id": "e72d6549-3420-4e3f-b40c-838a06c3bf01",
   "metadata": {},
   "outputs": [
    {
     "data": {
      "text/html": [
       "<div>\n",
       "<style scoped>\n",
       "    .dataframe tbody tr th:only-of-type {\n",
       "        vertical-align: middle;\n",
       "    }\n",
       "\n",
       "    .dataframe tbody tr th {\n",
       "        vertical-align: top;\n",
       "    }\n",
       "\n",
       "    .dataframe thead th {\n",
       "        text-align: right;\n",
       "    }\n",
       "</style>\n",
       "<table border=\"1\" class=\"dataframe\">\n",
       "  <thead>\n",
       "    <tr style=\"text-align: right;\">\n",
       "      <th></th>\n",
       "      <th>start_station_name</th>\n",
       "      <th>value</th>\n",
       "    </tr>\n",
       "  </thead>\n",
       "  <tbody>\n",
       "    <tr>\n",
       "      <th>0</th>\n",
       "      <td>11 St &amp; Washington St</td>\n",
       "      <td>15502</td>\n",
       "    </tr>\n",
       "    <tr>\n",
       "      <th>1</th>\n",
       "      <td>12 St &amp; Sinatra Dr N</td>\n",
       "      <td>17137</td>\n",
       "    </tr>\n",
       "    <tr>\n",
       "      <th>2</th>\n",
       "      <td>14 St Ferry - 14 St &amp; Shipyard Ln</td>\n",
       "      <td>17066</td>\n",
       "    </tr>\n",
       "  </tbody>\n",
       "</table>\n",
       "</div>"
      ],
      "text/plain": [
       "                  start_station_name  value\n",
       "0              11 St & Washington St  15502\n",
       "1               12 St & Sinatra Dr N  17137\n",
       "2  14 St Ferry - 14 St & Shipyard Ln  17066"
      ]
     },
     "execution_count": 16,
     "metadata": {},
     "output_type": "execute_result"
    }
   ],
   "source": [
    "df_groupby_bar.head(3)"
   ]
  },
  {
   "cell_type": "code",
   "execution_count": 17,
   "id": "cd849662-9e56-4ffb-90b7-860492fdf756",
   "metadata": {},
   "outputs": [],
   "source": [
    "#Select the top 20 most popular stations\n",
    "top_20 = df_groupby_bar.nlargest(20, 'value')"
   ]
  },
  {
   "cell_type": "code",
   "execution_count": 18,
   "id": "ce1844c0-eada-47d1-977e-fab10d36e88d",
   "metadata": {},
   "outputs": [
    {
     "data": {
      "text/plain": [
       "(20, 2)"
      ]
     },
     "execution_count": 18,
     "metadata": {},
     "output_type": "execute_result"
    }
   ],
   "source": [
    "top_20.shape"
   ]
  },
  {
   "cell_type": "code",
   "execution_count": 19,
   "id": "d89c9068-38c4-45e8-b762-b376436982cb",
   "metadata": {},
   "outputs": [],
   "source": [
    "#Create the Bar chart plot and save it in a fig object\n",
    "fig = go.Figure(go.Bar(x = top_20['start_station_name'], y = top_20['value']))"
   ]
  },
  {
   "cell_type": "code",
   "execution_count": null,
   "id": "6da2e79d-4541-4264-80a8-b007acd3bd6d",
   "metadata": {},
   "outputs": [],
   "source": [
    "fig"
   ]
  },
  {
   "cell_type": "code",
   "execution_count": null,
   "id": "7da6016a-59a1-46a6-9909-9af8d1ab9862",
   "metadata": {},
   "outputs": [],
   "source": [
    "#Assign go.Bar() to the “fig” object and apply settings customization\n",
    "fig = go.Figure(go.Bar(x = top_20['start_station_name'], y = top_20['value'], marker={'color': top_20['value'],'colorscale': 'Blues'}))\n",
    "fig.show()"
   ]
  },
  {
   "cell_type": "code",
   "execution_count": 84,
   "id": "136d7ce2-4818-47b8-8bbb-56160fc0dab7",
   "metadata": {},
   "outputs": [
    {
     "name": "stderr",
     "output_type": "stream",
     "text": [
      "2025-04-11 17:19:03.624 Thread 'MainThread': missing ScriptRunContext! This warning can be ignored when running in bare mode.\n",
      "2025-04-11 17:19:03.628 Thread 'MainThread': missing ScriptRunContext! This warning can be ignored when running in bare mode.\n",
      "2025-04-11 17:19:03.631 Thread 'MainThread': missing ScriptRunContext! This warning can be ignored when running in bare mode.\n",
      "2025-04-11 17:19:03.635 Thread 'MainThread': missing ScriptRunContext! This warning can be ignored when running in bare mode.\n"
     ]
    },
    {
     "data": {
      "text/plain": [
       "DeltaGenerator()"
      ]
     },
     "execution_count": 84,
     "metadata": {},
     "output_type": "execute_result"
    }
   ],
   "source": [
    "##Bar chart updated [title, labels, wideness] **directly access and change the settings\n",
    "fig.update_layout(\n",
    "    title = 'Top 20 most popular bike stations in New York',\n",
    "    xaxis_title = 'Start stations',\n",
    "    yaxis_title ='Sum of trips',\n",
    "    width = 900, height = 600\n",
    ")\n",
    "\n",
    "#Streamlit displays the plotly chart\n",
    "st.plotly_chart(fig, use_container_width = True)"
   ]
  },
  {
   "cell_type": "code",
   "execution_count": 85,
   "id": "a3923a36-9897-4530-a87e-2e422b69c17a",
   "metadata": {},
   "outputs": [],
   "source": [
    "#Export the top 20 stations\n",
    "top_20.to_csv('top20.csv')"
   ]
  },
  {
   "cell_type": "markdown",
   "id": "5189ed17-e263-4f67-a973-4fb24e8fe7b2",
   "metadata": {},
   "source": [
    "## 04.2 Dual-Axis Line Chart"
   ]
  },
  {
   "cell_type": "code",
   "execution_count": 20,
   "id": "df61e19c-5e3e-48e9-886b-41e10e31081d",
   "metadata": {},
   "outputs": [],
   "source": [
    "#Create a \"fig\" object for the make_subplots function\n",
    "fig2 = make_subplots(specs = [[{\"secondary_y\": True}]]) #there will be a dual axis"
   ]
  },
  {
   "cell_type": "code",
   "execution_count": 21,
   "id": "ea759dc9-1b64-4531-84f0-92bb49da14c9",
   "metadata": {},
   "outputs": [
    {
     "data": {
      "text/plain": [
       "Index(['ride_id', 'rideable_type', 'started_at', 'ended_at',\n",
       "       'start_station_name', 'start_station_id', 'end_station_name',\n",
       "       'end_station_id', 'start_lat', 'start_lng', 'end_lat', 'end_lng',\n",
       "       'member_casual', 'avgTemp', 'daily_bike_rides', '_merge', 'value',\n",
       "       'date', 'month', 'season'],\n",
       "      dtype='object')"
      ]
     },
     "execution_count": 21,
     "metadata": {},
     "output_type": "execute_result"
    }
   ],
   "source": [
    "#fig\n",
    "df.columns"
   ]
  },
  {
   "cell_type": "code",
   "execution_count": 22,
   "id": "7fa86eae-a945-4bc1-b0a3-716a16ecd57e",
   "metadata": {},
   "outputs": [
    {
     "data": {
      "text/html": [
       "<div>\n",
       "<style scoped>\n",
       "    .dataframe tbody tr th:only-of-type {\n",
       "        vertical-align: middle;\n",
       "    }\n",
       "\n",
       "    .dataframe tbody tr th {\n",
       "        vertical-align: top;\n",
       "    }\n",
       "\n",
       "    .dataframe thead th {\n",
       "        text-align: right;\n",
       "    }\n",
       "</style>\n",
       "<table border=\"1\" class=\"dataframe\">\n",
       "  <thead>\n",
       "    <tr style=\"text-align: right;\">\n",
       "      <th></th>\n",
       "      <th>ride_id</th>\n",
       "      <th>rideable_type</th>\n",
       "      <th>started_at</th>\n",
       "      <th>ended_at</th>\n",
       "      <th>start_station_name</th>\n",
       "      <th>start_station_id</th>\n",
       "      <th>end_station_name</th>\n",
       "      <th>end_station_id</th>\n",
       "      <th>start_lat</th>\n",
       "      <th>start_lng</th>\n",
       "      <th>end_lat</th>\n",
       "      <th>end_lng</th>\n",
       "      <th>member_casual</th>\n",
       "      <th>avgTemp</th>\n",
       "      <th>daily_bike_rides</th>\n",
       "      <th>_merge</th>\n",
       "      <th>value</th>\n",
       "      <th>date</th>\n",
       "      <th>month</th>\n",
       "      <th>season</th>\n",
       "    </tr>\n",
       "  </thead>\n",
       "  <tbody>\n",
       "    <tr>\n",
       "      <th>0</th>\n",
       "      <td>B42E6C17AF007611</td>\n",
       "      <td>classic_bike</td>\n",
       "      <td>2022-01-01</td>\n",
       "      <td>2022-01-01 00:25:03</td>\n",
       "      <td>Hoboken Terminal - River St &amp; Hudson Pl</td>\n",
       "      <td>HB102</td>\n",
       "      <td>Adams St &amp; 2 St</td>\n",
       "      <td>HB407</td>\n",
       "      <td>40.736068</td>\n",
       "      <td>-74.029127</td>\n",
       "      <td>40.739814</td>\n",
       "      <td>-74.036904</td>\n",
       "      <td>member</td>\n",
       "      <td>11.6</td>\n",
       "      <td>592</td>\n",
       "      <td>both</td>\n",
       "      <td>1</td>\n",
       "      <td>2022-01-01</td>\n",
       "      <td>1</td>\n",
       "      <td>winter</td>\n",
       "    </tr>\n",
       "    <tr>\n",
       "      <th>1</th>\n",
       "      <td>D5C9BBDBC66CEBF6</td>\n",
       "      <td>classic_bike</td>\n",
       "      <td>2022-01-01</td>\n",
       "      <td>2022-01-01 13:57:13</td>\n",
       "      <td>14 St Ferry - 14 St &amp; Shipyard Ln</td>\n",
       "      <td>HB202</td>\n",
       "      <td>Hoboken Terminal - River St &amp; Hudson Pl</td>\n",
       "      <td>HB102</td>\n",
       "      <td>40.752961</td>\n",
       "      <td>-74.024353</td>\n",
       "      <td>40.736068</td>\n",
       "      <td>-74.029127</td>\n",
       "      <td>member</td>\n",
       "      <td>11.6</td>\n",
       "      <td>592</td>\n",
       "      <td>both</td>\n",
       "      <td>1</td>\n",
       "      <td>2022-01-01</td>\n",
       "      <td>1</td>\n",
       "      <td>winter</td>\n",
       "    </tr>\n",
       "    <tr>\n",
       "      <th>2</th>\n",
       "      <td>F7D69E45F52F0ECA</td>\n",
       "      <td>electric_bike</td>\n",
       "      <td>2022-01-01</td>\n",
       "      <td>2022-01-02 00:34:32</td>\n",
       "      <td>South Waterfront Walkway - Sinatra Dr &amp; 1 St</td>\n",
       "      <td>HB103</td>\n",
       "      <td>Brunswick &amp; 6th</td>\n",
       "      <td>JC081</td>\n",
       "      <td>40.736982</td>\n",
       "      <td>-74.027781</td>\n",
       "      <td>40.726012</td>\n",
       "      <td>-74.050389</td>\n",
       "      <td>casual</td>\n",
       "      <td>11.6</td>\n",
       "      <td>592</td>\n",
       "      <td>both</td>\n",
       "      <td>1</td>\n",
       "      <td>2022-01-01</td>\n",
       "      <td>1</td>\n",
       "      <td>winter</td>\n",
       "    </tr>\n",
       "  </tbody>\n",
       "</table>\n",
       "</div>"
      ],
      "text/plain": [
       "            ride_id  rideable_type  started_at             ended_at  \\\n",
       "0  B42E6C17AF007611   classic_bike  2022-01-01  2022-01-01 00:25:03   \n",
       "1  D5C9BBDBC66CEBF6   classic_bike  2022-01-01  2022-01-01 13:57:13   \n",
       "2  F7D69E45F52F0ECA  electric_bike  2022-01-01  2022-01-02 00:34:32   \n",
       "\n",
       "                             start_station_name start_station_id  \\\n",
       "0       Hoboken Terminal - River St & Hudson Pl            HB102   \n",
       "1             14 St Ferry - 14 St & Shipyard Ln            HB202   \n",
       "2  South Waterfront Walkway - Sinatra Dr & 1 St            HB103   \n",
       "\n",
       "                          end_station_name end_station_id  start_lat  \\\n",
       "0                          Adams St & 2 St          HB407  40.736068   \n",
       "1  Hoboken Terminal - River St & Hudson Pl          HB102  40.752961   \n",
       "2                          Brunswick & 6th          JC081  40.736982   \n",
       "\n",
       "   start_lng    end_lat    end_lng member_casual  avgTemp  daily_bike_rides  \\\n",
       "0 -74.029127  40.739814 -74.036904        member     11.6               592   \n",
       "1 -74.024353  40.736068 -74.029127        member     11.6               592   \n",
       "2 -74.027781  40.726012 -74.050389        casual     11.6               592   \n",
       "\n",
       "  _merge  value       date  month  season  \n",
       "0   both      1 2022-01-01      1  winter  \n",
       "1   both      1 2022-01-01      1  winter  \n",
       "2   both      1 2022-01-01      1  winter  "
      ]
     },
     "execution_count": 22,
     "metadata": {},
     "output_type": "execute_result"
    }
   ],
   "source": [
    "df.head(3)"
   ]
  },
  {
   "cell_type": "code",
   "execution_count": null,
   "id": "dea60799-e0ac-43a4-9462-eb48d81dfbe8",
   "metadata": {
    "scrolled": true
   },
   "outputs": [],
   "source": [
    "#Create the line chart plot and add to the “fig” object - #two traces >> two lines\n",
    "fig2.add_trace(\n",
    "    go.Scatter(x = df['date'], y = df['daily_bike_rides'], name = 'Daily bike rides'), \n",
    "    secondary_y = False #primary axis\n",
    ")\n",
    "\n",
    "fig2.add_trace(\n",
    "    go.Scatter(x=df['date'], y = df['avgTemp'], name = 'Daily temperature'), \n",
    "    secondary_y=True #secondary axis\n",
    ")"
   ]
  },
  {
   "cell_type": "code",
   "execution_count": null,
   "id": "85881994-b1ca-46a2-bbef-1d3892522215",
   "metadata": {
    "scrolled": true
   },
   "outputs": [],
   "source": [
    "#Assign go.Scatter(() to the “fig” object and apply settings customization **Colors**\n",
    "fig2.add_trace(\n",
    "    go.Scatter(x = df['date'], y = df['daily_bike_rides'], name = 'Daily bike rides', \n",
    "               marker={'color': df['daily_bike_rides'],'color': 'blue'}),\n",
    "    secondary_y = False)\n",
    "\n",
    "fig2.add_trace(\n",
    "    go.Scatter(x=df['date'], y = df['avgTemp'], name = 'Daily temperature', \n",
    "               marker={'color': df['avgTemp'],'color': 'red'}),\n",
    "    secondary_y=True)"
   ]
  },
  {
   "cell_type": "code",
   "execution_count": null,
   "id": "5dc28ccf-14e5-467d-91f6-977774d0739a",
   "metadata": {},
   "outputs": [],
   "source": [
    "#Line chart updated [title, labels, wideness] **directly access and change the settings\n",
    "fig2.update_layout(\n",
    "    title = 'Daily bike rides and temperature in 2022 - New York CitiBike',\n",
    "    xaxis_title = '2022',\n",
    "    width = 900, height = 600\n",
    ")\n",
    "\n",
    "st.plotly_chart(fig2, use_container_width=True)"
   ]
  },
  {
   "cell_type": "code",
   "execution_count": 24,
   "id": "086c37c8-86f2-402f-8aa9-8f5916080189",
   "metadata": {},
   "outputs": [
    {
     "data": {
      "text/plain": [
       "288"
      ]
     },
     "execution_count": 24,
     "metadata": {},
     "output_type": "execute_result"
    }
   ],
   "source": [
    "#Release some unused memory\n",
    "import gc \n",
    "gc.collect()"
   ]
  },
  {
   "cell_type": "markdown",
   "id": "0605bfe4-cb95-4178-917a-3f8912c4b9ef",
   "metadata": {},
   "source": [
    "## 04.3 The Map"
   ]
  },
  {
   "cell_type": "code",
   "execution_count": 98,
   "id": "5023ca14-f658-4e6e-8bfe-71c71fd0590c",
   "metadata": {},
   "outputs": [
    {
     "name": "stderr",
     "output_type": "stream",
     "text": [
      "2025-04-11 17:28:32.151 Thread 'MainThread': missing ScriptRunContext! This warning can be ignored when running in bare mode.\n",
      "2025-04-11 17:28:32.167 Thread 'MainThread': missing ScriptRunContext! This warning can be ignored when running in bare mode.\n",
      "2025-04-11 17:28:32.644 Thread 'MainThread': missing ScriptRunContext! This warning can be ignored when running in bare mode.\n",
      "2025-04-11 17:28:32.779 Thread 'MainThread': missing ScriptRunContext! This warning can be ignored when running in bare mode.\n"
     ]
    },
    {
     "data": {
      "text/plain": [
       "DeltaGenerator()"
      ]
     },
     "execution_count": 98,
     "metadata": {},
     "output_type": "execute_result"
    }
   ],
   "source": [
    "#Assign the file to the file\n",
    "path_to_html = \"NewYork_CitiBike_Trips_Aggregated.html\"\n",
    "\n",
    "#Read file and keep in variable \n",
    "with open(path_to_html, 'r') as f:\n",
    "    html_data = f.read()\n",
    "\n",
    "#Add header\n",
    "st.header(\"NewYork_CitiBike_Trips_Aggregated\")\n",
    "\n",
    "#Render it on the dashboard *Show in web page \n",
    "st.components.v1.html(html_data,height = 1000)"
   ]
  },
  {
   "cell_type": "code",
   "execution_count": null,
   "id": "6c3c89f0-23f7-41d8-a70d-b511cfa9f41e",
   "metadata": {},
   "outputs": [],
   "source": []
  },
  {
   "cell_type": "code",
   "execution_count": null,
   "id": "5a06a375-8b99-41c7-af36-1b77b14adbb5",
   "metadata": {},
   "outputs": [],
   "source": []
  }
 ],
 "metadata": {
  "kernelspec": {
   "display_name": "Python [conda env:CitiBike]",
   "language": "python",
   "name": "conda-env-CitiBike-py"
  },
  "language_info": {
   "codemirror_mode": {
    "name": "ipython",
    "version": 3
   },
   "file_extension": ".py",
   "mimetype": "text/x-python",
   "name": "python",
   "nbconvert_exporter": "python",
   "pygments_lexer": "ipython3",
   "version": "3.13.2"
  },
  "widgets": {
   "application/vnd.jupyter.widget-state+json": {
    "state": {},
    "version_major": 2,
    "version_minor": 0
   }
  }
 },
 "nbformat": 4,
 "nbformat_minor": 5
}
